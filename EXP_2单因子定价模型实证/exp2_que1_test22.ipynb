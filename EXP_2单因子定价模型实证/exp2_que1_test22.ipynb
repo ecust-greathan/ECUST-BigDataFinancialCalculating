{
 "cells": [
  {
   "cell_type": "code",
   "execution_count": 1,
   "metadata": {},
   "outputs": [],
   "source": [
    "import pandas as pd\n",
    "import numpy as np\n",
    "import matplotlib.pyplot as plt\n",
    "import statsmodels.api as sm\n",
    "from scipy.stats import chi2, f\n",
    "import warnings\n",
    "warnings.filterwarnings(\"ignore\")"
   ]
  },
  {
   "cell_type": "code",
   "execution_count": 2,
   "metadata": {},
   "outputs": [],
   "source": [
    "stock_data000400 = pd.read_excel('./stock_data/月度数据/000400/000400RESSET_MRESSTK_1.xls',encoding='GB2312',usecols=[1,2])\n",
    "stock_data000600 = pd.read_excel('./stock_data/月度数据/000600/000600RESSET_MRESSTK_1.xls',encoding='GB2312',usecols=[1,2])\n",
    "stock_data000800 = pd.read_excel('./stock_data/月度数据/000800/000800RESSET_MRESSTK_1.xls',encoding='GB2312',usecols=[1,2])\n",
    "stock_data000900 = pd.read_excel('./stock_data/月度数据/000900/000900RESSET_MRESSTK_1.xls',encoding='GB2312',usecols=[1,2])\n",
    "stock_data600000 = pd.read_excel('./stock_data/月度数据/600000/600000RESSET_MRESSTK_1.xls',encoding='GB2312',usecols=[1,2])\n",
    "stock_data600100 = pd.read_excel('./stock_data/月度数据/600100/600100RESSET_MRESSTK_1.xls',encoding='GB2312',usecols=[1,2])\n",
    "stock_data600200 = pd.read_excel('./stock_data/月度数据/600200/600200RESSET_MRESSTK_1.xls',encoding='GB2312',usecols=[1,2])\n",
    "stock_data600600 = pd.read_excel('./stock_data/月度数据/600600/600600RESSET_MRESSTK_1.xls',encoding='GB2312',usecols=[1,2])\n",
    "index_data = pd.read_excel('./stock_data/日度数据/000001_index/000001RESSET_IDXQTTN_1.xls',encoding='GB2312',usecols=[1,5]) # 读取的是日度上证指数\n",
    "rf_data = pd.read_excel('./stock_data/月度数据/600000/600000RESSET_MRESSTK_1.xls',encoding='GB2312',usecols=[1,3])  #月无风险收益率"
   ]
  },
  {
   "cell_type": "code",
   "execution_count": 3,
   "metadata": {},
   "outputs": [],
   "source": [
    "# 月度上证指数需要处理一下才能获取\n",
    "# 先和一支股票的数据进行date的内连接\n",
    "def monthIndex(stock_data,index_data):\n",
    "    stock_data.columns = ['date', 'stock_close']\n",
    "    index_data.columns = ['date', 'index_close']\n",
    "    mergeData = pd.merge(left=stock_data,\n",
    "                      right=index_data[['date', 'index_close']],\n",
    "                      on='date',\n",
    "                      how='inner',\n",
    "                      sort=True)\n",
    "    filtered_data = mergeData[['date', 'index_close']]\n",
    "    filtered_data['return'] = np.log(filtered_data['index_close']) - np.log(filtered_data['index_close'].shift(periods=1))\n",
    "    filtered_data['date'] = pd.to_datetime(filtered_data['date'])    \n",
    "    filtered_data['date'] = filtered_data['date'].dt.strftime('%Y-%m')\n",
    "    return filtered_data"
   ]
  },
  {
   "cell_type": "code",
   "execution_count": 4,
   "metadata": {},
   "outputs": [],
   "source": [
    "# 获得上证指数的月度数据\n",
    "index_data_cal = monthIndex(stock_data600000,index_data)"
   ]
  },
  {
   "cell_type": "code",
   "execution_count": 5,
   "metadata": {},
   "outputs": [],
   "source": [
    "# 股票数据处理函数\n",
    "def stockDataProcess(data):\n",
    "    data.columns = ['date', 'close']\n",
    "    data['date'] = pd.to_datetime(data['date'])    \n",
    "    data['date'] = data['date'].dt.strftime('%Y-%m')\n",
    "    data['return'] = np.log(data['close']) - np.log(data['close'].shift(periods=1))\n",
    "    return data"
   ]
  },
  {
   "cell_type": "code",
   "execution_count": 6,
   "metadata": {},
   "outputs": [],
   "source": [
    "# 无风险收益率数据处理\n",
    "def rfDataProcess(rfData):\n",
    "    rfData.columns = ['date', 'rfreturn']\n",
    "    rfData['date'] = pd.to_datetime(rfData['date'])    \n",
    "    rfData['date'] = rfData['date'].dt.strftime('%Y-%m')\n",
    "    return rfData"
   ]
  },
  {
   "cell_type": "code",
   "execution_count": 7,
   "metadata": {},
   "outputs": [],
   "source": [
    "# 处理所有的股票数据\n",
    "stock_data000400 = stockDataProcess(stock_data000400)\n",
    "stock_data000600 = stockDataProcess(stock_data000600)\n",
    "stock_data000800 = stockDataProcess(stock_data000800)\n",
    "stock_data000900 = stockDataProcess(stock_data000900)\n",
    "stock_data600000 = stockDataProcess(stock_data600000)\n",
    "stock_data600100 = stockDataProcess(stock_data600100)\n",
    "stock_data600200 = stockDataProcess(stock_data600200)\n",
    "stock_data600600 = stockDataProcess(stock_data600600)"
   ]
  },
  {
   "cell_type": "code",
   "execution_count": 8,
   "metadata": {},
   "outputs": [],
   "source": [
    "#将所有的数据拼接\n",
    "data_matrix = pd.merge(left=index_data_cal[['date', 'return']],\n",
    "                      right=stock_data000400[['date', 'return']],\n",
    "                      on='date',\n",
    "                      how='inner',\n",
    "                      sort=True) # sort=True参数确保合并后的DataFrame按照日期排序\n",
    "\n",
    "data_matrix = pd.merge(left=data_matrix,\n",
    "                      right=stock_data000600[['date', 'return']],\n",
    "                      on='date',\n",
    "                      how='inner',\n",
    "                      sort=True)\n",
    "\n",
    "data_matrix = pd.merge(left=data_matrix,\n",
    "                      right=stock_data000800[['date', 'return']],\n",
    "                      on='date',\n",
    "                      how='inner',\n",
    "                      sort=True)\n",
    "\n",
    "data_matrix = pd.merge(left=data_matrix,\n",
    "                      right=stock_data000900[['date', 'return']],\n",
    "                      on='date',\n",
    "                      how='inner',\n",
    "                      sort=True)\n",
    "\n",
    "data_matrix = pd.merge(left=data_matrix,\n",
    "                      right=stock_data600000[['date', 'return']],\n",
    "                      on='date',\n",
    "                      how='inner',\n",
    "                      sort=True)\n",
    "\n",
    "data_matrix = pd.merge(left=data_matrix,\n",
    "                      right=stock_data600100[['date', 'return']],\n",
    "                      on='date',\n",
    "                      how='inner',\n",
    "                      sort=True)\n",
    "\n",
    "data_matrix = pd.merge(left=data_matrix,\n",
    "                      right=stock_data600200[['date', 'return']],\n",
    "                      on='date',\n",
    "                      how='inner',\n",
    "                      sort=True)\n",
    "\n",
    "data_matrix = pd.merge(left=data_matrix,\n",
    "                      right=stock_data600600[['date', 'return']],\n",
    "                      on='date',\n",
    "                      how='inner',\n",
    "                      sort=True)"
   ]
  },
  {
   "cell_type": "code",
   "execution_count": 9,
   "metadata": {},
   "outputs": [],
   "source": [
    "# 处理月无风险收益\n",
    "rf_data = rfDataProcess(rf_data)"
   ]
  },
  {
   "cell_type": "code",
   "execution_count": 10,
   "metadata": {},
   "outputs": [],
   "source": [
    "# 将月无风险收益拼接\n",
    "data_matrix = pd.merge(left=data_matrix,\n",
    "                      right=rf_data[['date', 'rfreturn']],\n",
    "                      on='date',\n",
    "                      how='inner',\n",
    "                      sort=True)"
   ]
  },
  {
   "cell_type": "code",
   "execution_count": 11,
   "metadata": {},
   "outputs": [],
   "source": [
    "data_matrix.columns = ['date', 'index', 'stk000400', 'stk000600', 'stk000800', 'stk000900', 'stk600000', 'stk600100', 'stk600200', 'stk600600','rf']"
   ]
  },
  {
   "cell_type": "code",
   "execution_count": 12,
   "metadata": {},
   "outputs": [],
   "source": [
    "# 对全部拼接完成的数据进行处理\n",
    "data_matrix.dropna(inplace=True) #去除掉na值"
   ]
  },
  {
   "cell_type": "code",
   "execution_count": 13,
   "metadata": {},
   "outputs": [],
   "source": [
    "# 计算超额收益率\n",
    "data_matrix['index'] = data_matrix['index'] - data_matrix['rf']\n",
    "data_matrix['stk000400'] = data_matrix['stk000400'] - data_matrix['rf']\n",
    "data_matrix['stk000600'] = data_matrix['stk000600'] - data_matrix['rf']\n",
    "data_matrix['stk000800'] = data_matrix['stk000800'] - data_matrix['rf']\n",
    "data_matrix['stk000900'] = data_matrix['stk000900'] - data_matrix['rf']\n",
    "data_matrix['stk600000'] = data_matrix['stk600000'] - data_matrix['rf']\n",
    "data_matrix['stk600100'] = data_matrix['stk600100'] - data_matrix['rf']\n",
    "data_matrix['stk600200'] = data_matrix['stk600200'] - data_matrix['rf']\n",
    "data_matrix['stk600600'] = data_matrix['stk600600'] - data_matrix['rf']"
   ]
  },
  {
   "cell_type": "code",
   "execution_count": 14,
   "metadata": {},
   "outputs": [],
   "source": [
    "ret_ind = data_matrix['index'].values\n",
    "T = len(ret_ind) #计算了变量 ret_ind 的长度\n",
    "N = 8  #变量 N，表示有多少支股票\n",
    "mu_market = np.mean(ret_ind) #计算了 ret_ind 中所有收益率数据的平均值，代表了市场收益率的平均值。\n",
    "sigma_market = np.sum((ret_ind-mu_market)**2)/T   #计算了市场收益率的方差\n",
    "ret_stocks = data_matrix[['stk000400', 'stk000600', 'stk000800', 'stk000900', 'stk600000', 'stk600100','stk600200','stk600600']].values\n",
    "ret_stocks"
   ]
  },
  {
   "cell_type": "code",
   "execution_count": 15,
   "metadata": {},
   "outputs": [
    {
     "name": "stdout",
     "output_type": "stream",
     "text": [
      "[-0.0034918  -0.00465423 -0.0007631  -0.00572357 -0.00703279 -0.01146913\n",
      " -0.00498504  0.00678179]\n"
     ]
    }
   ],
   "source": [
    "# 无限制模型\n",
    "x = np.ones((T, 2))\n",
    "x[:, 1] = ret_ind\n",
    "y = ret_stocks\n",
    "xTx = np.dot(np.transpose(x), x)\n",
    "xTy = np.dot(np.transpose(x), y)\n",
    "AB_hat = np.dot(np.linalg.inv(xTx), xTy)\n",
    "ALPHA = AB_hat[0]\n",
    "print(ALPHA)\n",
    "BETA = AB_hat[1]\n",
    "RESD = y - np.dot(x, AB_hat)\n",
    "COV = np.dot(np.transpose(RESD), RESD)/T\n",
    "invCOV = np.linalg.inv(COV)"
   ]
  },
  {
   "cell_type": "code",
   "execution_count": 16,
   "metadata": {},
   "outputs": [],
   "source": [
    "# 限制模型\n",
    "xr = np.ones((T, 1))\n",
    "xr[:, 0] = ret_ind\n",
    "yr = ret_stocks\n",
    "xrTxr = np.dot(np.transpose(xr), xr)\n",
    "xrTyr = np.dot(np.transpose(xr), yr)\n",
    "ABr_hat = np.dot(np.linalg.inv(xrTxr), xrTyr)\n",
    "RESDr = yr - np.dot(xr, ABr_hat)\n",
    "COVr = np.dot(np.transpose(RESDr), RESDr)/T\n",
    "invCOVr = np.linalg.inv(COVr)"
   ]
  },
  {
   "cell_type": "code",
   "execution_count": 17,
   "metadata": {},
   "outputs": [
    {
     "name": "stdout",
     "output_type": "stream",
     "text": [
      "0.3760675518105223\n",
      "0.4052484860424572\n"
     ]
    }
   ],
   "source": [
    "# Wald检验\n",
    "trans_ALPHA = np.ones((len(ALPHA), 1))\n",
    "trans_ALPHA[:, 0] = ALPHA\n",
    "SWchi2 = T*(1/(1+mu_market**2/sigma_market))*np.dot(np.dot(ALPHA, invCOV), trans_ALPHA)\n",
    "SWF = (T-N-1)/N*(1/(1+mu_market**2/sigma_market))*np.dot(np.dot(ALPHA, invCOV), trans_ALPHA)\n",
    "pvalue_Wchi2 = 1 - chi2.cdf(SWchi2[0], N)\n",
    "pvalue_WF = 1 - f.cdf(SWF[0], N, T-N-1)\n",
    "print(pvalue_Wchi2)\n",
    "print(pvalue_WF)"
   ]
  },
  {
   "cell_type": "code",
   "execution_count": 18,
   "metadata": {},
   "outputs": [
    {
     "name": "stdout",
     "output_type": "stream",
     "text": [
      "0.3880397040946635\n"
     ]
    }
   ],
   "source": [
    "# 似然比检验\n",
    "SLRchi2 = T*(np.log(np.linalg.det(COVr)) - np.log(np.linalg.det(COV)))\n",
    "pvalue_SLRchi2 = 1 - chi2.cdf(SLRchi2, N)\n",
    "print(pvalue_SLRchi2)"
   ]
  },
  {
   "cell_type": "code",
   "execution_count": 21,
   "metadata": {},
   "outputs": [
    {
     "name": "stdout",
     "output_type": "stream",
     "text": [
      "[[-1.07714950e+00]\n",
      " [-9.43601671e+01]\n",
      " [ 1.08689269e+01]\n",
      " [-1.84216624e+02]\n",
      " [-3.34137157e+02]\n",
      " [-2.24450761e+02]\n",
      " [-2.39223935e+01]\n",
      " [ 2.68091188e+02]\n",
      " [ 1.26593432e-14]\n",
      " [ 3.31277570e-14]\n",
      " [ 4.24523459e-14]\n",
      " [-3.52044166e-14]\n",
      " [ 2.89989165e-14]\n",
      " [ 1.74039590e-14]\n",
      " [-3.66885616e-15]\n",
      " [ 5.98122515e-15]]\n"
     ]
    }
   ],
   "source": [
    "# 拉格朗日乘子检验\n",
    "a = np.zeros((8, 1))\n",
    "a[:, 0] =  np.sum(RESDr, axis=0)\n",
    "salpha = np.dot(invCOVr, a)\n",
    "b = np.dot(ret_ind, RESDr)\n",
    "sbeta = np.zeros((8,1))\n",
    "sbeta[:, 0] = np.dot(invCOVr, b)\n",
    "score = np.concatenate((salpha, sbeta), axis=0)\n",
    "print(score)"
   ]
  },
  {
   "cell_type": "code",
   "execution_count": 22,
   "metadata": {},
   "outputs": [
    {
     "name": "stdout",
     "output_type": "stream",
     "text": [
      "0.3999946727163184\n"
     ]
    }
   ],
   "source": [
    "a = np.concatenate((invCOVr*T, invCOVr*np.sum(ret_ind)), axis=1)\n",
    "b = np.concatenate((invCOVr*np.sum(ret_ind), invCOVr*np.sum(ret_ind**2)), axis=1)\n",
    "Minfo = np.concatenate((a, b), axis=0)\n",
    "SLMchi2 = np.dot(np.dot(np.transpose(score), np.linalg.inv(Minfo)), score)\n",
    "pvalue_SLMchi2 = 1-chi2.cdf(SLMchi2[0][0], N)\n",
    "print(pvalue_SLMchi2)"
   ]
  },
  {
   "cell_type": "code",
   "execution_count": null,
   "metadata": {},
   "outputs": [],
   "source": []
  }
 ],
 "metadata": {
  "kernelspec": {
   "display_name": "Python 3",
   "language": "python",
   "name": "python3"
  },
  "language_info": {
   "codemirror_mode": {
    "name": "ipython",
    "version": 3
   },
   "file_extension": ".py",
   "mimetype": "text/x-python",
   "name": "python",
   "nbconvert_exporter": "python",
   "pygments_lexer": "ipython3",
   "version": "3.7.0"
  }
 },
 "nbformat": 4,
 "nbformat_minor": 2
}
